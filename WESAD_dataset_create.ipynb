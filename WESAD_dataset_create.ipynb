{
 "cells": [
  {
   "cell_type": "code",
   "execution_count": null,
   "id": "788cee2a",
   "metadata": {},
   "outputs": [],
   "source": [
    "import pandas as pd \n",
    "import numpy as np\n",
    "import pickle\n",
    "import matplotlib.pyplot as plt\n",
    "\n",
    "from scipy.signal import resample\n",
    "from scipy import signal, stats\n",
    "from scipy.signal import butter, medfilt\n",
    "from sklearn.preprocessing import MinMaxScaler"
   ]
  },
  {
   "cell_type": "code",
   "execution_count": null,
   "id": "12cbfccf",
   "metadata": {},
   "outputs": [],
   "source": [
    "# Denoise\n",
    "def butter_highpass_filter(ecg, cutoff, Fs, order):\n",
    "    nyq = 0.5 * Fs\n",
    "    normal_cutoff = cutoff / nyq\n",
    "    \n",
    "    b, a = signal.butter(order, normal_cutoff, btype='high', analog=False)\n",
    "    y = signal.filtfilt(b, a, ecg)\n",
    "    return y\n",
    "\n",
    "def butter_bandstop_filter(ecg, low, high, Fs, order):\n",
    "    nyq = 0.5 * Fs\n",
    "    low = low/ nyq\n",
    "    high = high/ nyq\n",
    "    b, a = signal.butter(order, [low, high], btype='bandstop')\n",
    "    y = signal.filtfilt(b,a,ecg)\n",
    "    return y\n",
    "\n",
    "def butter_lowpass_filter(ecg, cutoff, Fs, order):\n",
    "    nyq = 0.5 * Fs\n",
    "    normal_cutoff = cutoff / nyq\n",
    "    \n",
    "    b, a = signal.butter(order, normal_cutoff, btype='low', analog=False)\n",
    "    y = signal.filtfilt(b, a, ecg)\n",
    "    return y\n",
    "\n",
    "def denoise_ecg(amuse_signal, normal_signal, stress_signal, meditation_signal, high, low, sampling_rate, order):\n",
    "    # high pass filter (0.5)\n",
    "    bw_amuse = butter_highpass_filter(amuse_signal, high, sampling_rate, order)\n",
    "    bw_normal = butter_highpass_filter(normal_signal, high, sampling_rate, order)\n",
    "    bw_stress = butter_highpass_filter(stress_signal, high, sampling_rate, order)\n",
    "    bw_meditation = butter_highpass_filter(meditation_signal, high, sampling_rate, order)\n",
    "\n",
    "    # notch filter (57,63) - 50 Hz noise 제거\n",
    "    notch_amuse = butter_bandstop_filter(bw_amuse, 57, 63, sampling_rate, order)\n",
    "    notch_normal = butter_bandstop_filter(bw_normal, 57, 63, sampling_rate, order)\n",
    "    notch_stress = butter_bandstop_filter(bw_stress, 57, 63, sampling_rate, order)\n",
    "    notch_meditation = butter_bandstop_filter(bw_meditation, 57, 63, sampling_rate, order)\n",
    "\n",
    "    # notch filter (47, 53) - 60 Hz noise 제거 \n",
    "    notch_amuse = butter_bandstop_filter(notch_amuse, 47, 53, sampling_rate, order)\n",
    "    notch_normal = butter_bandstop_filter(notch_normal, 47, 53, sampling_rate, order)\n",
    "    notch_stress = butter_bandstop_filter(notch_stress, 47, 53, sampling_rate, order)\n",
    "    notch_meditation = butter_bandstop_filter(notch_meditation, 47, 53, sampling_rate, order)\n",
    "\n",
    "    # low pass filter\n",
    "    low_amuse = butter_lowpass_filter(notch_amuse, low, sampling_rate, order)\n",
    "    low_normal = butter_lowpass_filter(notch_normal, low, sampling_rate, order)\n",
    "    low_stress = butter_lowpass_filter(notch_stress, low, sampling_rate, order)\n",
    "    low_meditation = butter_lowpass_filter(notch_meditation, low, sampling_rate, order)\n",
    "    \n",
    "    return low_amuse, low_normal, low_stress, low_meditation\n",
    "\n",
    "\n",
    "# Down, up sampling\n",
    "def resampling(data, original_freq, new_freq):\n",
    "    original_samples = len(data)\n",
    "    new_samples = int(original_samples * (new_freq / original_freq))\n",
    "    \n",
    "    downsampled = resample(data, new_samples)\n",
    "    \n",
    "    return downsampled\n",
    "\n",
    "\n",
    "# Delete outlier\n",
    "def Delet_outlier(data, high_level = None, low_level = None):\n",
    "    \n",
    "    high = False if high_level is None else high_level\n",
    "    low = False if low_level is None else low_level\n",
    "    \n",
    "    ex_data = pd.Series(data)\n",
    "    Q1 = ex_data.quantile(0.25)\n",
    "    Q3 = ex_data.quantile(0.75)\n",
    "    IQR = Q3 - Q1 \n",
    "    \n",
    "    if high and low:\n",
    "        dff = ex_data[(ex_data <= Q3+(high*IQR)) & (ex_data >= Q1-(low*IQR))]\n",
    "        \n",
    "    elif high and not low:\n",
    "        dff = ex_data[(ex_data <=Q3+(high*IQR))]\n",
    "        \n",
    "    elif not high and low:\n",
    "        dff = ex_data[(ex_data >= Q1-(low*IQR))]\n",
    "    else :\n",
    "        dff = ex_data\n",
    "    \n",
    "    #dff = ex_data[(ex_data <= Q3+(high_level*IQR)) & (ex_data >= Q1-(low_level*IQR))]\n",
    "    \n",
    "    dff = dff.reset_index(drop=True)\n",
    "    \n",
    "    return np.array(dff)\n",
    "\n",
    "# minmax normalization (0,1)\n",
    "def minmax(data):\n",
    "    scaler = MinMaxScaler()\n",
    "    new = scaler.fit_transform(data.reshape(-1,1))\n",
    "    return new\n",
    "\n",
    "# plot\n",
    "def plot_ecg(amuse, normal, stress, meditation):\n",
    "    plt.figure(figsize=(20,3))\n",
    "    plt.subplot(1,4,1)\n",
    "    plt.plot(amuse); plt.title('Amuse')\n",
    "    plt.subplot(1,4,2)\n",
    "    plt.plot(normal); plt.title('Normal')\n",
    "    plt.subplot(1,4,3)\n",
    "    plt.plot(stress); plt.title('Stress')\n",
    "    plt.subplot(1,4,4)\n",
    "    plt.plot(meditation); plt.title('meditation')\n",
    "    plt.show()\n",
    "    "
   ]
  },
  {
   "cell_type": "markdown",
   "id": "0f02283c",
   "metadata": {},
   "source": [
    "# Initial Settings"
   ]
  },
  {
   "cell_type": "code",
   "execution_count": null,
   "id": "ef561fc6",
   "metadata": {},
   "outputs": [],
   "source": [
    "Data = \"D:/Database/WESAD/\"\n",
    "save_path = \"D:/Journal/WESAD_Denoise_Outlier_Normalization/\"\n",
    "\n",
    "WESAD_freq = 700\n",
    "StressID_freq = 700\n",
    "\n",
    "# filtering\n",
    "high_cutoff = 0.5\n",
    "sampling_rate = 700\n",
    "ts = 1 / sampling_rate\n",
    "nyq = 0.5 * sampling_rate # 나이퀴스트 \n",
    "order = 4\n",
    "low_cutoff = 100"
   ]
  },
  {
   "cell_type": "markdown",
   "id": "e793e683",
   "metadata": {},
   "source": [
    "## Process\n",
    "### 1. Outlier\n",
    "### 2. Denoise\n",
    "### 3. Normalization"
   ]
  },
  {
   "cell_type": "markdown",
   "id": "db747dbd",
   "metadata": {},
   "source": [
    "# S2\n",
    "- amuse, stress 이상치 X"
   ]
  },
  {
   "cell_type": "code",
   "execution_count": null,
   "id": "46c5ef68",
   "metadata": {},
   "outputs": [],
   "source": [
    "df = pd.read_pickle(Data + 'S2' + '/' + 'S2' + '.pkl')\n",
    "ecg_v = df['signal']['chest']['ECG']\n",
    "label = df['label']\n",
    "\n",
    "amuse_ecg = ecg_v[np.where(label == 3)[0]].flatten()\n",
    "normal_ecg = ecg_v[np.where(label == 1)[0]].flatten()\n",
    "stress_ecg = ecg_v[np.where(label == 2)[0]].flatten()\n",
    "meditation_ecg = ecg_v[np.where(label == 4)[0]].flatten()"
   ]
  },
  {
   "cell_type": "code",
   "execution_count": null,
   "id": "63d9d190",
   "metadata": {},
   "outputs": [],
   "source": [
    "out_normal = Delet_outlier(normal_ecg, 5, 2)\n",
    "out_meditation = Delet_outlier(meditation_ecg, 13, 0)\n",
    "plot_ecg(amuse_ecg, normal_ecg, stress_ecg, meditation_ecg)\n",
    "plot_ecg(amuse_ecg, out_normal, stress_ecg, out_meditation)"
   ]
  },
  {
   "cell_type": "code",
   "execution_count": null,
   "id": "94b53b30",
   "metadata": {},
   "outputs": [],
   "source": [
    "de_amuse, de_normal, de_stress, de_meditation = denoise_ecg(amuse_ecg, out_normal, stress_ecg, out_meditation, 0.5, 100, 700, 4)\n",
    "\n",
    "plot_ecg(amuse_ecg, out_normal, stress_ecg, out_meditation)\n",
    "plot_ecg(de_amuse, de_normal, de_stress, de_meditation)"
   ]
  },
  {
   "cell_type": "code",
   "execution_count": null,
   "id": "cfa65787",
   "metadata": {},
   "outputs": [],
   "source": [
    "amuse = minmax(de_amuse)\n",
    "normal = minmax(de_normal)\n",
    "stress = minmax(de_stress)\n",
    "meditation = minmax(de_meditation)\n",
    "\n",
    "plot_ecg(amuse, normal, stress, meditation)\n",
    "plot_ecg(amuse[20000:30000], normal[20000:30000], stress[20000:30000], meditation[20000:30000])"
   ]
  },
  {
   "cell_type": "code",
   "execution_count": null,
   "id": "6d2bec55",
   "metadata": {},
   "outputs": [],
   "source": [
    "amuse_d = resampling(amuse ,WESAD_freq, StressID_freq)\n",
    "normal_d = resampling(normal ,WESAD_freq, StressID_freq)\n",
    "stress_d = resampling(stress ,WESAD_freq, StressID_freq)\n",
    "\n",
    "plot_ecg(amuse_d, normal_d, stress_d)"
   ]
  },
  {
   "cell_type": "code",
   "execution_count": null,
   "id": "69d3fefe",
   "metadata": {},
   "outputs": [],
   "source": [
    "new_data = {'excitement' : amuse, 'baseline' : normal, 'stress' : stress, 'meditation' : meditation}\n",
    "\n",
    "with open(save_path + 'S2.pkl','wb') as fw:\n",
    "    pickle.dump(new_data, fw)"
   ]
  },
  {
   "cell_type": "markdown",
   "id": "5cb0ad7f",
   "metadata": {},
   "source": [
    "# S3"
   ]
  },
  {
   "cell_type": "code",
   "execution_count": null,
   "id": "136e5a2c",
   "metadata": {},
   "outputs": [],
   "source": [
    "df = pd.read_pickle(Data + 'S3' + '/' + 'S3' + '.pkl')\n",
    "ecg_v = df['signal']['chest']['ECG']\n",
    "label = df['label']\n",
    "\n",
    "amuse_ecg = ecg_v[np.where(label == 3)[0]].flatten()\n",
    "normal_ecg = ecg_v[np.where(label == 1)[0]].flatten()\n",
    "stress_ecg = ecg_v[np.where(label == 2)[0]].flatten()\n",
    "meditation_ecg = ecg_v[np.where(label == 4)[0]].flatten()"
   ]
  },
  {
   "cell_type": "code",
   "execution_count": null,
   "id": "3d240636",
   "metadata": {},
   "outputs": [],
   "source": [
    "out_stress = Delet_outlier(stress_ecg, 11, 4)\n",
    "plot_ecg(amuse_ecg, normal_ecg, stress_ecg, meditation_ecg)\n",
    "plot_ecg(amuse_ecg, out_normal, out_stress, meditation_ecg)"
   ]
  },
  {
   "cell_type": "code",
   "execution_count": null,
   "id": "def9c151",
   "metadata": {
    "scrolled": true
   },
   "outputs": [],
   "source": [
    "plt.plot(meditation_ecg[700:1000])\n",
    "plt.plot(de_meditation[700:1000])"
   ]
  },
  {
   "cell_type": "code",
   "execution_count": null,
   "id": "1b0fb934",
   "metadata": {},
   "outputs": [],
   "source": [
    "de_amuse, de_normal, de_stress, de_meditation = denoise_ecg(amuse_ecg, normal_ecg, out_stress, meditation_ecg, 0.5, 100, 700, 4)\n",
    "de_meditation = de_meditation[700:]\n",
    "plot_ecg(amuse_ecg, normal_ecg, out_stress, meditation_ecg)\n",
    "plot_ecg(de_amuse, de_normal, de_stress, de_meditation)"
   ]
  },
  {
   "cell_type": "code",
   "execution_count": null,
   "id": "7a0eeffc",
   "metadata": {},
   "outputs": [],
   "source": [
    "amuse = minmax(de_amuse)\n",
    "normal = minmax(de_normal)\n",
    "stress = minmax(de_stress)\n",
    "meditation = minmax(de_meditation)\n",
    "\n",
    "print(amuse.shape, normal.shape, stress.shape, meditation.shape)\n",
    "plot_ecg(amuse, normal, stress, meditation)\n",
    "plot_ecg(amuse[20000:30000], normal[20000:30000], stress[20000:30000], meditation[20000:30000])"
   ]
  },
  {
   "cell_type": "code",
   "execution_count": null,
   "id": "f3b08d7d",
   "metadata": {},
   "outputs": [],
   "source": [
    "amuse_d = resampling(amuse ,WESAD_freq, StressID_freq)\n",
    "normal_d = resampling(normal ,WESAD_freq, StressID_freq)\n",
    "stress_d = resampling(stress ,WESAD_freq, StressID_freq)\n",
    "\n",
    "plot_ecg(amuse_d, normal_d, stress_d)"
   ]
  },
  {
   "cell_type": "code",
   "execution_count": null,
   "id": "c550718c",
   "metadata": {},
   "outputs": [],
   "source": [
    "new_data = {'excitement' : amuse, 'baseline' : normal, 'stress' : stress, 'meditation' : meditation}\n",
    "\n",
    "with open(save_path + 'S3.pkl','wb') as fw:\n",
    "    pickle.dump(new_data, fw)"
   ]
  },
  {
   "cell_type": "markdown",
   "id": "944daddc",
   "metadata": {},
   "source": [
    "# S4\n",
    "이상치 없음"
   ]
  },
  {
   "cell_type": "code",
   "execution_count": null,
   "id": "511a06d9",
   "metadata": {},
   "outputs": [],
   "source": [
    "df = pd.read_pickle(Data + 'S4' + '/' + 'S4' + '.pkl')\n",
    "ecg_v = df['signal']['chest']['ECG']\n",
    "label = df['label']\n",
    "\n",
    "amuse_ecg = ecg_v[np.where(label == 3)[0]].flatten()\n",
    "normal_ecg = ecg_v[np.where(label == 1)[0]].flatten()\n",
    "stress_ecg = ecg_v[np.where(label == 2)[0]].flatten()\n",
    "meditation_ecg = ecg_v[np.where(label == 4)[0]].flatten()"
   ]
  },
  {
   "cell_type": "code",
   "execution_count": null,
   "id": "e949f075",
   "metadata": {},
   "outputs": [],
   "source": [
    "plot_ecg(amuse_ecg, normal_ecg, stress_ecg, meditation_ecg)"
   ]
  },
  {
   "cell_type": "code",
   "execution_count": null,
   "id": "cfc0a033",
   "metadata": {},
   "outputs": [],
   "source": [
    "de_amuse, de_normal, de_stress, de_meditation = denoise_ecg(amuse_ecg, normal_ecg, stress_ecg, meditation_ecg, 0.5, 100, 700, 4)\n",
    "\n",
    "plot_ecg(amuse_ecg, normal_ecg, stress_ecg, meditation_ecg)\n",
    "plot_ecg(de_amuse, de_normal, de_stress, de_meditation)"
   ]
  },
  {
   "cell_type": "code",
   "execution_count": null,
   "id": "c8880b34",
   "metadata": {},
   "outputs": [],
   "source": [
    "amuse = minmax(de_amuse)\n",
    "normal = minmax(de_normal)\n",
    "stress = minmax(de_stress)\n",
    "meditation = minmax(de_meditation)\n",
    "\n",
    "print(amuse.shape, normal.shape, stress.shape, meditation.shape)\n",
    "plot_ecg(amuse, normal, stress, meditation)\n",
    "plot_ecg(amuse[20000:30000], normal[20000:30000], stress[20000:30000], meditation[20000:30000])"
   ]
  },
  {
   "cell_type": "code",
   "execution_count": null,
   "id": "ac1af824",
   "metadata": {},
   "outputs": [],
   "source": [
    "amuse_d = resampling(amuse ,WESAD_freq, StressID_freq)\n",
    "normal_d = resampling(normal ,WESAD_freq, StressID_freq)\n",
    "stress_d = resampling(stress ,WESAD_freq, StressID_freq)\n",
    "\n",
    "plot_ecg(amuse_d, normal_d, stress_d)"
   ]
  },
  {
   "cell_type": "code",
   "execution_count": null,
   "id": "845aaad8",
   "metadata": {},
   "outputs": [],
   "source": [
    "new_data = {'excitement' : amuse, 'baseline' : normal, 'stress' : stress, 'meditation' : meditation}\n",
    "\n",
    "with open(save_path + 'S4.pkl','wb') as fw:\n",
    "    pickle.dump(new_data, fw)"
   ]
  },
  {
   "cell_type": "markdown",
   "id": "b6af07d8",
   "metadata": {},
   "source": [
    "# S5\n",
    "Stress 이상치 제거"
   ]
  },
  {
   "cell_type": "code",
   "execution_count": null,
   "id": "71ea7ef4",
   "metadata": {},
   "outputs": [],
   "source": [
    "df = pd.read_pickle(Data + 'S5' + '/' + 'S5' + '.pkl')\n",
    "ecg_v = df['signal']['chest']['ECG']\n",
    "label = df['label']\n",
    "\n",
    "amuse_ecg = ecg_v[np.where(label == 3)[0]].flatten()\n",
    "normal_ecg = ecg_v[np.where(label == 1)[0]].flatten()\n",
    "stress_ecg = ecg_v[np.where(label == 2)[0]].flatten()\n",
    "meditation_ecg = ecg_v[np.where(label == 4)[0]].flatten()\n",
    "\n",
    "plot_ecg(amuse_ecg, normal_ecg, stress_ecg, meditation_ecg)"
   ]
  },
  {
   "cell_type": "code",
   "execution_count": null,
   "id": "f52e6374",
   "metadata": {},
   "outputs": [],
   "source": [
    "out_stress = Delet_outlier(stress_ecg, None, 8)\n",
    "plot_ecg(amuse_ecg, normal_ecg, out_stress, meditation_ecg)"
   ]
  },
  {
   "cell_type": "code",
   "execution_count": null,
   "id": "bb4dfb22",
   "metadata": {},
   "outputs": [],
   "source": [
    "de_amuse, de_normal, de_stress, de_meditation = denoise_ecg(amuse_ecg, normal_ecg, out_stress, meditation_ecg, 0.5, 100, 700, 4)\n",
    "\n",
    "plot_ecg(amuse_ecg, normal_ecg, out_stress, meditation_ecg)\n",
    "plot_ecg(de_amuse, de_normal, de_stress, de_meditation)"
   ]
  },
  {
   "cell_type": "code",
   "execution_count": null,
   "id": "cab29335",
   "metadata": {},
   "outputs": [],
   "source": [
    "amuse = minmax(de_amuse)\n",
    "normal = minmax(de_normal)\n",
    "stress = minmax(de_stress)\n",
    "meditation = minmax(de_meditation)\n",
    "\n",
    "print(amuse.shape, normal.shape, stress.shape, meditation.shape)\n",
    "plot_ecg(amuse, normal, stress, meditation)\n",
    "plot_ecg(amuse[20000:30000], normal[20000:30000], stress[20000:30000], meditation[20000:30000])"
   ]
  },
  {
   "cell_type": "code",
   "execution_count": null,
   "id": "784a3258",
   "metadata": {},
   "outputs": [],
   "source": [
    "amuse_d = resampling(amuse ,WESAD_freq, StressID_freq)\n",
    "normal_d = resampling(normal ,WESAD_freq, StressID_freq)\n",
    "stress_d = resampling(stress ,WESAD_freq, StressID_freq)\n",
    "\n",
    "plot_ecg(amuse_d, normal_d, stress_d)\n",
    "\n",
    "new_data = {'excitement' : amuse_d, 'neutral' : normal_d, 'stress' : stress_d}\n",
    "\n",
    "with open(save_path + 'S5.pkl','wb') as fw:\n",
    "    pickle.dump(new_data, fw)"
   ]
  },
  {
   "cell_type": "code",
   "execution_count": null,
   "id": "fff7cbd5",
   "metadata": {},
   "outputs": [],
   "source": [
    "new_data = {'excitement' : amuse, 'baseline' : normal, 'stress' : stress, 'meditation' : meditation}\n",
    "\n",
    "with open(save_path + 'S5.pkl','wb') as fw:\n",
    "    pickle.dump(new_data, fw)"
   ]
  },
  {
   "cell_type": "markdown",
   "id": "6f164240",
   "metadata": {},
   "source": [
    "# S6\n",
    "이상치 없음"
   ]
  },
  {
   "cell_type": "code",
   "execution_count": null,
   "id": "ae5df45c",
   "metadata": {},
   "outputs": [],
   "source": [
    "df = pd.read_pickle(Data + 'S6' + '/' + 'S6' + '.pkl')\n",
    "ecg_v = df['signal']['chest']['ECG']\n",
    "label = df['label']\n",
    "\n",
    "amuse_ecg = ecg_v[np.where(label == 3)[0]].flatten()\n",
    "normal_ecg = ecg_v[np.where(label == 1)[0]].flatten()\n",
    "stress_ecg = ecg_v[np.where(label == 2)[0]].flatten()\n",
    "meditation_ecg = ecg_v[np.where(label == 4)[0]].flatten()\n",
    "\n",
    "plot_ecg(amuse_ecg, normal_ecg, stress_ecg, meditation_ecg)"
   ]
  },
  {
   "cell_type": "code",
   "execution_count": null,
   "id": "ffa72340",
   "metadata": {},
   "outputs": [],
   "source": [
    "de_amuse, de_normal, de_stress, de_meditation = denoise_ecg(amuse_ecg, normal_ecg, stress_ecg, meditation_ecg, 0.5, 100, 700, 4)\n",
    "\n",
    "plot_ecg(amuse_ecg, normal_ecg, stress_ecg, meditation_ecg)\n",
    "plot_ecg(de_amuse, de_normal, de_stress, de_meditation)"
   ]
  },
  {
   "cell_type": "code",
   "execution_count": null,
   "id": "67ea8a71",
   "metadata": {},
   "outputs": [],
   "source": [
    "amuse = minmax(de_amuse)\n",
    "normal = minmax(de_normal)\n",
    "stress = minmax(de_stress)\n",
    "meditation = minmax(de_meditation)\n",
    "\n",
    "print(amuse.shape, normal.shape, stress.shape, meditation.shape)\n",
    "plot_ecg(amuse, normal, stress, meditation)\n",
    "plot_ecg(amuse[20000:30000], normal[20000:30000], stress[20000:30000], meditation[20000:30000])"
   ]
  },
  {
   "cell_type": "code",
   "execution_count": null,
   "id": "1291124e",
   "metadata": {},
   "outputs": [],
   "source": [
    "amuse_d = resampling(amuse ,WESAD_freq, StressID_freq)\n",
    "normal_d = resampling(normal ,WESAD_freq, StressID_freq)\n",
    "stress_d = resampling(stress ,WESAD_freq, StressID_freq)\n",
    "\n",
    "plot_ecg(amuse_d, normal_d, stress_d)\n",
    "\n",
    "new_data = {'excitement' : amuse_d, 'neutral' : normal_d, 'stress' : stress_d}\n",
    "\n",
    "with open(save_path + 'S6.pkl','wb') as fw:\n",
    "    pickle.dump(new_data, fw)"
   ]
  },
  {
   "cell_type": "code",
   "execution_count": null,
   "id": "bc4c4230",
   "metadata": {},
   "outputs": [],
   "source": [
    "new_data = {'excitement' : amuse, 'baseline' : normal, 'stress' : stress, 'meditation' : meditation}\n",
    "\n",
    "with open(save_path + 'S6.pkl','wb') as fw:\n",
    "    pickle.dump(new_data, fw)"
   ]
  },
  {
   "cell_type": "markdown",
   "id": "ba330ac0",
   "metadata": {},
   "source": [
    "# S7\n",
    "이상치 없음"
   ]
  },
  {
   "cell_type": "code",
   "execution_count": null,
   "id": "8ef495af",
   "metadata": {},
   "outputs": [],
   "source": [
    "df = pd.read_pickle(Data + 'S7' + '/' + 'S7' + '.pkl')\n",
    "ecg_v = df['signal']['chest']['ECG']\n",
    "label = df['label']\n",
    "\n",
    "amuse_ecg = ecg_v[np.where(label == 3)[0]].flatten()\n",
    "normal_ecg = ecg_v[np.where(label == 1)[0]].flatten()\n",
    "stress_ecg = ecg_v[np.where(label == 2)[0]].flatten()\n",
    "meditation_ecg = ecg_v[np.where(label == 4)[0]].flatten()\n",
    "\n",
    "plot_ecg(amuse_ecg, normal_ecg, stress_ecg, meditation_ecg)"
   ]
  },
  {
   "cell_type": "code",
   "execution_count": null,
   "id": "f49d6add",
   "metadata": {},
   "outputs": [],
   "source": [
    "de_amuse, de_normal, de_stress, de_meditation = denoise_ecg(amuse_ecg, normal_ecg, stress_ecg, meditation_ecg, 0.5, 100, 700, 4)\n",
    "\n",
    "plot_ecg(amuse_ecg, normal_ecg, stress_ecg, meditation_ecg)\n",
    "plot_ecg(de_amuse, de_normal, de_stress, de_meditation)"
   ]
  },
  {
   "cell_type": "code",
   "execution_count": null,
   "id": "58faa726",
   "metadata": {},
   "outputs": [],
   "source": [
    "amuse = minmax(de_amuse)\n",
    "normal = minmax(de_normal)\n",
    "stress = minmax(de_stress)\n",
    "meditation = minmax(de_meditation)\n",
    "\n",
    "print(amuse.shape, normal.shape, stress.shape, meditation.shape)\n",
    "plot_ecg(amuse, normal, stress, meditation)\n",
    "plot_ecg(amuse[20000:30000], normal[20000:30000], stress[20000:30000], meditation[20000:30000])"
   ]
  },
  {
   "cell_type": "code",
   "execution_count": null,
   "id": "5df387c4",
   "metadata": {},
   "outputs": [],
   "source": [
    "amuse_d = resampling(amuse ,WESAD_freq, StressID_freq)\n",
    "normal_d = resampling(normal ,WESAD_freq, StressID_freq)\n",
    "stress_d = resampling(stress ,WESAD_freq, StressID_freq)\n",
    "\n",
    "plot_ecg(amuse_d, normal_d, stress_d)\n",
    "\n",
    "new_data = {'excitement' : amuse_d, 'neutral' : normal_d, 'stress' : stress_d}\n",
    "\n",
    "with open(save_path + 'S7.pkl','wb') as fw:\n",
    "    pickle.dump(new_data, fw)"
   ]
  },
  {
   "cell_type": "code",
   "execution_count": null,
   "id": "e3978cc8",
   "metadata": {},
   "outputs": [],
   "source": [
    "new_data = {'excitement' : amuse, 'baseline' : normal, 'stress' : stress, 'meditation' : meditation}\n",
    "\n",
    "with open(save_path + 'S7.pkl','wb') as fw:\n",
    "    pickle.dump(new_data, fw)"
   ]
  },
  {
   "cell_type": "markdown",
   "id": "adfe9412",
   "metadata": {},
   "source": [
    "# S8\n",
    "정상, 스트레스 이상치 존재"
   ]
  },
  {
   "cell_type": "code",
   "execution_count": null,
   "id": "43641bf9",
   "metadata": {},
   "outputs": [],
   "source": [
    "df = pd.read_pickle(Data + 'S8' + '/' + 'S8' + '.pkl')\n",
    "ecg_v = df['signal']['chest']['ECG']\n",
    "label = df['label']\n",
    "\n",
    "amuse_ecg = ecg_v[np.where(label == 3)[0]].flatten()\n",
    "normal_ecg = ecg_v[np.where(label == 1)[0]].flatten()\n",
    "stress_ecg = ecg_v[np.where(label == 2)[0]].flatten()\n",
    "meditation_ecg = ecg_v[np.where(label == 4)[0]].flatten()\n",
    "\n",
    "plot_ecg(amuse_ecg, normal_ecg, stress_ecg, meditation_ecg)"
   ]
  },
  {
   "cell_type": "code",
   "execution_count": null,
   "id": "0666c5ea",
   "metadata": {},
   "outputs": [],
   "source": [
    "out_normal = Delet_outlier(normal_ecg, None, 14)\n",
    "out_stress = Delet_outlier(stress_ecg, None, 2.5)\n",
    "\n",
    "plot_ecg(amuse_ecg, out_normal, out_stress, meditation_ecg)"
   ]
  },
  {
   "cell_type": "code",
   "execution_count": null,
   "id": "7b65ac82",
   "metadata": {},
   "outputs": [],
   "source": [
    "plt.plot(meditation_ecg[0:2000])\n",
    "plt.plot(de_meditation[0:2000])\n",
    "plt.show()\n",
    "plt.plot(meditation_ecg[0:2000])\n",
    "plt.plot(de_meditation[0:2000])"
   ]
  },
  {
   "cell_type": "code",
   "execution_count": null,
   "id": "639b681d",
   "metadata": {},
   "outputs": [],
   "source": [
    "de_amuse, de_normal, de_stress, de_meditation = denoise_ecg(amuse_ecg, out_normal, out_stress, meditation_ecg, 0.5, 100, 700, 4)\n",
    "\n",
    "plot_ecg(amuse_ecg, out_normal, out_stress, meditation_ecg)\n",
    "plot_ecg(de_amuse, de_normal, de_stress, de_meditation)"
   ]
  },
  {
   "cell_type": "code",
   "execution_count": null,
   "id": "a7fb794d",
   "metadata": {},
   "outputs": [],
   "source": [
    "out_de_meditation = Delet_outlier(de_meditation, 22, 9)\n",
    "plt.plot(de_meditation)\n",
    "plt.plot(out_de_meditation)"
   ]
  },
  {
   "cell_type": "code",
   "execution_count": null,
   "id": "18cee2bb",
   "metadata": {},
   "outputs": [],
   "source": [
    "amuse = minmax(de_amuse)\n",
    "normal = minmax(de_normal)\n",
    "stress = minmax(de_stress)\n",
    "meditation = minmax(out_de_meditation)\n",
    "\n",
    "print(amuse.shape, normal.shape, stress.shape, meditation.shape)\n",
    "plot_ecg(amuse, normal, stress, meditation)\n",
    "plot_ecg(amuse[20000:30000], normal[20000:30000], stress[20000:30000], meditation[20000:30000])"
   ]
  },
  {
   "cell_type": "code",
   "execution_count": null,
   "id": "4d297bfb",
   "metadata": {},
   "outputs": [],
   "source": [
    "amuse_d = resampling(amuse ,WESAD_freq, StressID_freq)\n",
    "normal_d = resampling(normal ,WESAD_freq, StressID_freq)\n",
    "stress_d = resampling(stress ,WESAD_freq, StressID_freq)\n",
    "\n",
    "plot_ecg(amuse_d, normal_d, stress_d)\n",
    "\n",
    "new_data = {'excitement' : amuse_d, 'neutral' : normal_d, 'stress' : stress_d}\n",
    "\n",
    "with open(save_path + 'S8.pkl','wb') as fw:\n",
    "    pickle.dump(new_data, fw)"
   ]
  },
  {
   "cell_type": "code",
   "execution_count": null,
   "id": "2a618940",
   "metadata": {},
   "outputs": [],
   "source": [
    "new_data = {'excitement' : amuse, 'baseline' : normal, 'stress' : stress, 'meditation' : meditation}\n",
    "\n",
    "with open(save_path + 'S8.pkl','wb') as fw:\n",
    "    pickle.dump(new_data, fw)"
   ]
  },
  {
   "cell_type": "markdown",
   "id": "3deddddc",
   "metadata": {},
   "source": [
    "# S9"
   ]
  },
  {
   "cell_type": "code",
   "execution_count": null,
   "id": "6858d25c",
   "metadata": {},
   "outputs": [],
   "source": [
    "df = pd.read_pickle(Data + 'S9' + '/' + 'S9' + '.pkl')\n",
    "ecg_v = df['signal']['chest']['ECG']\n",
    "label = df['label']\n",
    "\n",
    "amuse_ecg = ecg_v[np.where(label == 3)[0]].flatten()\n",
    "normal_ecg = ecg_v[np.where(label == 1)[0]].flatten()\n",
    "stress_ecg = ecg_v[np.where(label == 2)[0]].flatten()\n",
    "meditation_ecg = ecg_v[np.where(label == 4)[0]].flatten()\n",
    "\n",
    "plot_ecg(amuse_ecg, normal_ecg, stress_ecg, meditation_ecg)"
   ]
  },
  {
   "cell_type": "code",
   "execution_count": null,
   "id": "e17c291f",
   "metadata": {},
   "outputs": [],
   "source": [
    "de_amuse, de_normal, de_stress, de_meditation = denoise_ecg(amuse_ecg, normal_ecg, stress_ecg, meditation_ecg, 0.5, 100, 700, 4)\n",
    "\n",
    "plot_ecg(amuse_ecg, normal_ecg, stress_ecg, meditation_ecg)\n",
    "plot_ecg(de_amuse, de_normal, de_stress, de_meditation)"
   ]
  },
  {
   "cell_type": "code",
   "execution_count": null,
   "id": "dce75ecc",
   "metadata": {},
   "outputs": [],
   "source": [
    "re_meditation_ecg = meditation[350:]"
   ]
  },
  {
   "cell_type": "code",
   "execution_count": null,
   "id": "cc4acb40",
   "metadata": {},
   "outputs": [],
   "source": [
    "amuse = minmax(de_amuse)\n",
    "normal = minmax(de_normal)\n",
    "stress = minmax(de_stress)\n",
    "meditation = minmax(re_meditation_ecg)\n",
    "\n",
    "print(amuse.shape, normal.shape, stress.shape, meditation.shape)\n",
    "plot_ecg(amuse, normal, stress, meditation)\n",
    "plot_ecg(amuse[20000:30000], normal[20000:30000], stress[20000:30000], meditation[20000:30000])"
   ]
  },
  {
   "cell_type": "code",
   "execution_count": null,
   "id": "4cd7e1bd",
   "metadata": {},
   "outputs": [],
   "source": [
    "amuse_d = resampling(amuse ,WESAD_freq, StressID_freq)\n",
    "normal_d = resampling(normal ,WESAD_freq, StressID_freq)\n",
    "stress_d = resampling(stress ,WESAD_freq, StressID_freq)\n",
    "\n",
    "plot_ecg(amuse_d, normal_d, stress_d)\n",
    "\n",
    "new_data = {'excitement' : amuse_d, 'neutral' : normal_d, 'stress' : stress_d}\n",
    "\n",
    "with open(save_path + 'S9.pkl','wb') as fw:\n",
    "    pickle.dump(new_data, fw)"
   ]
  },
  {
   "cell_type": "code",
   "execution_count": null,
   "id": "7c555fae",
   "metadata": {},
   "outputs": [],
   "source": [
    "new_data = {'excitement' : amuse, 'baseline' : normal, 'stress' : stress, 'meditation' : meditation}\n",
    "\n",
    "with open(save_path + 'S9.pkl','wb') as fw:\n",
    "    pickle.dump(new_data, fw)"
   ]
  },
  {
   "cell_type": "markdown",
   "id": "a8eccee5",
   "metadata": {},
   "source": [
    "# S10"
   ]
  },
  {
   "cell_type": "code",
   "execution_count": null,
   "id": "d93a0d49",
   "metadata": {},
   "outputs": [],
   "source": [
    "df = pd.read_pickle(Data + 'S10' + '/' + 'S10' + '.pkl')\n",
    "ecg_v = df['signal']['chest']['ECG']\n",
    "label = df['label']\n",
    "\n",
    "amuse_ecg = ecg_v[np.where(label == 3)[0]].flatten()\n",
    "normal_ecg = ecg_v[np.where(label == 1)[0]].flatten()\n",
    "stress_ecg = ecg_v[np.where(label == 2)[0]].flatten()\n",
    "meditation_ecg = ecg_v[np.where(label == 4)[0]].flatten()\n",
    "\n",
    "plot_ecg(amuse_ecg, normal_ecg, stress_ecg, meditation_ecg)"
   ]
  },
  {
   "cell_type": "code",
   "execution_count": null,
   "id": "8b13b769",
   "metadata": {},
   "outputs": [],
   "source": [
    "out_amuse = Delet_outlier(amuse_ecg, 10, 6)\n",
    "out_normal = Delet_outlier(normal_ecg, 10, 7)\n",
    "out_stress = Delet_outlier(stress_ecg, None, 8)\n",
    "plot_ecg(out_amuse, out_normal, out_stress, meditation_ecg)"
   ]
  },
  {
   "cell_type": "code",
   "execution_count": null,
   "id": "1cede22c",
   "metadata": {},
   "outputs": [],
   "source": [
    "de_amuse, de_normal, de_stress, de_meditation = denoise_ecg(out_amuse, out_normal, out_stress, meditation_ecg, 0.5, 100, 700, 4)\n",
    "\n",
    "plot_ecg(out_amuse, out_normal, out_stress, meditation_ecg)\n",
    "plot_ecg(de_amuse, de_normal, de_stress, de_meditation)"
   ]
  },
  {
   "cell_type": "code",
   "execution_count": null,
   "id": "cfda41ff",
   "metadata": {},
   "outputs": [],
   "source": [
    "de_out_amuse = Delet_outlier(de_amuse, 10, 6)\n",
    "plt.plot(de_amuse)\n",
    "plt.plot(de_out_amuse)"
   ]
  },
  {
   "cell_type": "code",
   "execution_count": null,
   "id": "8cf7249e",
   "metadata": {},
   "outputs": [],
   "source": [
    "de_out_normal = Delet_outlier(de_normal, 10, 7)\n",
    "plt.plot(de_normal)\n",
    "plt.plot(de_out_normal)"
   ]
  },
  {
   "cell_type": "code",
   "execution_count": null,
   "id": "9a7a410c",
   "metadata": {},
   "outputs": [],
   "source": [
    "amuse = minmax(de_out_amuse)\n",
    "normal = minmax(de_out_normal)\n",
    "stress = minmax(de_stress)\n",
    "meditation = minmax(de_meditation)\n",
    "\n",
    "print(amuse.shape, normal.shape, stress.shape, meditation.shape)\n",
    "plot_ecg(amuse, normal, stress, meditation)\n",
    "plot_ecg(amuse[20000:30000], normal[20000:30000], stress[20000:30000], meditation[20000:30000])"
   ]
  },
  {
   "cell_type": "code",
   "execution_count": null,
   "id": "c3f40253",
   "metadata": {},
   "outputs": [],
   "source": [
    "amuse_d = resampling(amuse ,WESAD_freq, StressID_freq)\n",
    "normal_d = resampling(normal ,WESAD_freq, StressID_freq)\n",
    "stress_d = resampling(stress ,WESAD_freq, StressID_freq)\n",
    "\n",
    "plot_ecg(amuse_d, normal_d, stress_d)\n",
    "\n",
    "new_data = {'excitement' : amuse_d, 'neutral' : normal_d, 'stress' : stress_d}\n",
    "\n",
    "with open(save_path + 'S10.pkl','wb') as fw:\n",
    "    pickle.dump(new_data, fw)"
   ]
  },
  {
   "cell_type": "code",
   "execution_count": null,
   "id": "43dfedd4",
   "metadata": {},
   "outputs": [],
   "source": [
    "new_data = {'excitement' : amuse, 'baseline' : normal, 'stress' : stress, 'meditation' : meditation}\n",
    "\n",
    "with open(save_path + 'S10.pkl','wb') as fw:\n",
    "    pickle.dump(new_data, fw)"
   ]
  },
  {
   "cell_type": "markdown",
   "id": "28b136d0",
   "metadata": {},
   "source": [
    "# S11\n",
    "이상치 없음"
   ]
  },
  {
   "cell_type": "code",
   "execution_count": null,
   "id": "539f9a32",
   "metadata": {},
   "outputs": [],
   "source": [
    "df = pd.read_pickle(Data + 'S11' + '/' + 'S11' + '.pkl')\n",
    "ecg_v = df['signal']['chest']['ECG']\n",
    "label = df['label']\n",
    "\n",
    "amuse_ecg = ecg_v[np.where(label == 3)[0]].flatten()\n",
    "normal_ecg = ecg_v[np.where(label == 1)[0]].flatten()\n",
    "stress_ecg = ecg_v[np.where(label == 2)[0]].flatten()\n",
    "meditation_ecg = ecg_v[np.where(label == 4)[0]].flatten()\n",
    "\n",
    "plot_ecg(amuse_ecg, normal_ecg, stress_ecg, meditation_ecg)"
   ]
  },
  {
   "cell_type": "code",
   "execution_count": null,
   "id": "feab25b8",
   "metadata": {},
   "outputs": [],
   "source": [
    "de_amuse, de_normal, de_stress, de_meditation = denoise_ecg(amuse_ecg, normal_ecg, stress_ecg, meditation_ecg, 0.5, 100, 700, 4)\n",
    "\n",
    "plot_ecg(amuse_ecg, normal_ecg, stress_ecg, meditation_ecg)\n",
    "plot_ecg(de_amuse, de_normal, de_stress, de_meditation)"
   ]
  },
  {
   "cell_type": "code",
   "execution_count": null,
   "id": "835e18a4",
   "metadata": {},
   "outputs": [],
   "source": [
    "amuse = minmax(de_amuse)\n",
    "normal = minmax(de_normal)\n",
    "stress = minmax(de_stress)\n",
    "meditation = minmax(de_meditation)\n",
    "\n",
    "print(amuse.shape, normal.shape, stress.shape, meditation.shape)\n",
    "plot_ecg(amuse, normal, stress, meditation)\n",
    "plot_ecg(amuse[20000:30000], normal[20000:30000], stress[20000:30000], meditation[20000:30000])"
   ]
  },
  {
   "cell_type": "code",
   "execution_count": null,
   "id": "77370dfc",
   "metadata": {},
   "outputs": [],
   "source": [
    "amuse_d = resampling(amuse ,WESAD_freq, StressID_freq)\n",
    "normal_d = resampling(normal ,WESAD_freq, StressID_freq)\n",
    "stress_d = resampling(stress ,WESAD_freq, StressID_freq)\n",
    "\n",
    "plot_ecg(amuse_d, normal_d, stress_d)\n",
    "\n",
    "new_data = {'excitement' : amuse_d, 'neutral' : normal_d, 'stress' : stress_d}\n",
    "\n",
    "with open(save_path + 'S11.pkl','wb') as fw:\n",
    "    pickle.dump(new_data, fw)"
   ]
  },
  {
   "cell_type": "code",
   "execution_count": null,
   "id": "d1c60d99",
   "metadata": {},
   "outputs": [],
   "source": [
    "new_data = {'excitement' : amuse, 'baseline' : normal, 'stress' : stress, 'meditation' : meditation}\n",
    "\n",
    "with open(save_path + 'S11.pkl','wb') as fw:\n",
    "    pickle.dump(new_data, fw)"
   ]
  },
  {
   "cell_type": "markdown",
   "id": "192a4a35",
   "metadata": {},
   "source": [
    "# S13"
   ]
  },
  {
   "cell_type": "code",
   "execution_count": null,
   "id": "31630bff",
   "metadata": {},
   "outputs": [],
   "source": [
    "df = pd.read_pickle(Data + 'S13' + '/' + 'S13' + '.pkl')\n",
    "ecg_v = df['signal']['chest']['ECG']\n",
    "label = df['label']\n",
    "\n",
    "amuse_ecg = ecg_v[np.where(label == 3)[0]].flatten()\n",
    "normal_ecg = ecg_v[np.where(label == 1)[0]].flatten()\n",
    "stress_ecg = ecg_v[np.where(label == 2)[0]].flatten()\n",
    "meditation_ecg = ecg_v[np.where(label == 4)[0]].flatten()\n",
    "\n",
    "plot_ecg(amuse_ecg, normal_ecg, stress_ecg, meditation_ecg)"
   ]
  },
  {
   "cell_type": "code",
   "execution_count": null,
   "id": "972c16fa",
   "metadata": {},
   "outputs": [],
   "source": [
    "de_amuse, de_normal, de_stress, de_meditation = denoise_ecg(amuse_ecg, normal_ecg, stress_ecg, meditation_ecg, 0.5, 100, 700, 4)\n",
    "\n",
    "plot_ecg(amuse_ecg, normal_ecg, stress_ecg, meditation_ecg)\n",
    "plot_ecg(de_amuse, de_normal, de_stress, de_meditation)"
   ]
  },
  {
   "cell_type": "code",
   "execution_count": null,
   "id": "3cfaab99",
   "metadata": {},
   "outputs": [],
   "source": [
    "amuse = minmax(de_amuse)\n",
    "normal = minmax(de_normal)\n",
    "stress = minmax(de_stress)\n",
    "meditation = minmax(de_meditation)\n",
    "\n",
    "print(amuse.shape, normal.shape, stress.shape, meditation.shape)\n",
    "plot_ecg(amuse, normal, stress, meditation)\n",
    "plot_ecg(amuse[20000:30000], normal[20000:30000], stress[20000:30000], meditation[20000:30000])"
   ]
  },
  {
   "cell_type": "code",
   "execution_count": null,
   "id": "b0896955",
   "metadata": {},
   "outputs": [],
   "source": [
    "amuse_d = resampling(amuse ,WESAD_freq, StressID_freq)\n",
    "normal_d = resampling(normal ,WESAD_freq, StressID_freq)\n",
    "stress_d = resampling(stress ,WESAD_freq, StressID_freq)\n",
    "\n",
    "plot_ecg(amuse_d, normal_d, stress_d)\n",
    "\n",
    "new_data = {'excitement' : amuse_d, 'neutral' : normal_d, 'stress' : stress_d}\n",
    "\n",
    "with open(save_path + 'S13.pkl','wb') as fw:\n",
    "    pickle.dump(new_data, fw)"
   ]
  },
  {
   "cell_type": "code",
   "execution_count": null,
   "id": "373c74d4",
   "metadata": {},
   "outputs": [],
   "source": [
    "new_data = {'excitement' : amuse, 'baseline' : normal, 'stress' : stress, 'meditation' : meditation}\n",
    "\n",
    "with open(save_path + 'S13.pkl','wb') as fw:\n",
    "    pickle.dump(new_data, fw)"
   ]
  },
  {
   "cell_type": "markdown",
   "id": "d7922ec9",
   "metadata": {},
   "source": [
    "# S14"
   ]
  },
  {
   "cell_type": "code",
   "execution_count": null,
   "id": "c82c8ccc",
   "metadata": {},
   "outputs": [],
   "source": [
    "df = pd.read_pickle(Data + 'S14' + '/' + 'S14' + '.pkl')\n",
    "ecg_v = df['signal']['chest']['ECG']\n",
    "label = df['label']\n",
    "\n",
    "amuse_ecg = ecg_v[np.where(label == 3)[0]].flatten()\n",
    "normal_ecg = ecg_v[np.where(label == 1)[0]].flatten()\n",
    "stress_ecg = ecg_v[np.where(label == 2)[0]].flatten()\n",
    "meditation_ecg = ecg_v[np.where(label == 4)[0]].flatten()\n",
    "\n",
    "plot_ecg(amuse_ecg, normal_ecg, stress_ecg, meditation_ecg)"
   ]
  },
  {
   "cell_type": "code",
   "execution_count": null,
   "id": "da5a0d9d",
   "metadata": {},
   "outputs": [],
   "source": [
    "de_amuse, de_normal, de_stress, de_meditation = denoise_ecg(amuse_ecg, normal_ecg, stress_ecg, meditation_ecg, 0.5, 100, 700, 4)\n",
    "\n",
    "plot_ecg(amuse_ecg, normal_ecg, stress_ecg, meditation_ecg)\n",
    "plot_ecg(de_amuse, de_normal, de_stress, de_meditation)"
   ]
  },
  {
   "cell_type": "code",
   "execution_count": null,
   "id": "147d6d64",
   "metadata": {},
   "outputs": [],
   "source": [
    "plt.plot(normal_ecg[0:1000])\n",
    "plt.plot(de_normal[0:1000])"
   ]
  },
  {
   "cell_type": "code",
   "execution_count": null,
   "id": "02313ba6",
   "metadata": {},
   "outputs": [],
   "source": [
    "re_de_normal_ecg = de_normal[400:]"
   ]
  },
  {
   "cell_type": "code",
   "execution_count": null,
   "id": "f44c5b90",
   "metadata": {},
   "outputs": [],
   "source": [
    "amuse = minmax(de_amuse)\n",
    "normal = minmax(re_de_normal_ecg)\n",
    "stress = minmax(de_stress)\n",
    "meditation = minmax(de_meditation)\n",
    "\n",
    "print(amuse.shape, normal.shape, stress.shape, meditation.shape)\n",
    "plot_ecg(amuse, normal, stress, meditation)\n",
    "plot_ecg(amuse[20000:30000], normal[20000:30000], stress[20000:30000], meditation[20000:30000])"
   ]
  },
  {
   "cell_type": "code",
   "execution_count": null,
   "id": "a3c87e6b",
   "metadata": {},
   "outputs": [],
   "source": [
    "amuse_d = resampling(amuse ,WESAD_freq, StressID_freq)\n",
    "normal_d = resampling(normal ,WESAD_freq, StressID_freq)\n",
    "stress_d = resampling(stress ,WESAD_freq, StressID_freq)\n",
    "\n",
    "plot_ecg(amuse_d, normal_d, stress_d)\n",
    "\n",
    "new_data = {'excitement' : amuse_d, 'neutral' : normal_d, 'stress' : stress_d}\n",
    "\n",
    "with open(save_path + 'S14.pkl','wb') as fw:\n",
    "    pickle.dump(new_data, fw)"
   ]
  },
  {
   "cell_type": "code",
   "execution_count": null,
   "id": "15931e28",
   "metadata": {},
   "outputs": [],
   "source": [
    "new_data = {'excitement' : amuse, 'baseline' : normal, 'stress' : stress, 'meditation' : meditation}\n",
    "\n",
    "with open(save_path + 'S14.pkl','wb') as fw:\n",
    "    pickle.dump(new_data, fw)"
   ]
  },
  {
   "cell_type": "markdown",
   "id": "9658ed2d",
   "metadata": {},
   "source": [
    "# S15"
   ]
  },
  {
   "cell_type": "code",
   "execution_count": null,
   "id": "2028bc13",
   "metadata": {},
   "outputs": [],
   "source": [
    "df = pd.read_pickle(Data + 'S15' + '/' + 'S15' + '.pkl')\n",
    "ecg_v = df['signal']['chest']['ECG']\n",
    "label = df['label']\n",
    "\n",
    "amuse_ecg = ecg_v[np.where(label == 3)[0]].flatten()\n",
    "normal_ecg = ecg_v[np.where(label == 1)[0]].flatten()\n",
    "stress_ecg = ecg_v[np.where(label == 2)[0]].flatten()\n",
    "meditation_ecg = ecg_v[np.where(label == 4)[0]].flatten()\n",
    "\n",
    "plot_ecg(amuse_ecg, normal_ecg, stress_ecg, meditation_ecg)"
   ]
  },
  {
   "cell_type": "code",
   "execution_count": null,
   "id": "5dbb5606",
   "metadata": {},
   "outputs": [],
   "source": [
    "out_normal = Delet_outlier(normal_ecg, None, 4)\n",
    "out_stress = Delet_outlier(stress_ecg, None, 4)\n",
    "plot_ecg(amuse_ecg, out_normal, out_stress, meditation_ecg)"
   ]
  },
  {
   "cell_type": "code",
   "execution_count": null,
   "id": "c747b85d",
   "metadata": {},
   "outputs": [],
   "source": [
    "de_amuse, de_normal, de_stress, de_meditation = denoise_ecg(amuse_ecg, out_normal, out_stress, meditation_ecg, 0.5, 100, 700, 4)\n",
    "\n",
    "plot_ecg(amuse_ecg, out_normal, out_stress, meditation_ecg)\n",
    "plot_ecg(de_amuse, de_normal, de_stress, de_meditation)"
   ]
  },
  {
   "cell_type": "code",
   "execution_count": null,
   "id": "d45cd4dd",
   "metadata": {},
   "outputs": [],
   "source": [
    "amuse = minmax(de_amuse)\n",
    "normal = minmax(de_normal)\n",
    "stress = minmax(de_stress)\n",
    "meditation = minmax(de_meditation)\n",
    "\n",
    "print(amuse.shape, normal.shape, stress.shape, meditation.shape)\n",
    "plot_ecg(amuse, normal, stress, meditation)\n",
    "plot_ecg(amuse[20000:30000], normal[20000:30000], stress[20000:30000], meditation[20000:30000])"
   ]
  },
  {
   "cell_type": "code",
   "execution_count": null,
   "id": "e2cb5eb6",
   "metadata": {},
   "outputs": [],
   "source": [
    "amuse_d = resampling(amuse ,WESAD_freq, StressID_freq)\n",
    "normal_d = resampling(normal ,WESAD_freq, StressID_freq)\n",
    "stress_d = resampling(stress ,WESAD_freq, StressID_freq)\n",
    "\n",
    "plot_ecg(amuse_d, normal_d, stress_d)\n",
    "\n",
    "new_data = {'excitement' : amuse_d, 'neutral' : normal_d, 'stress' : stress_d}\n",
    "\n",
    "with open(save_path + 'S15.pkl','wb') as fw:\n",
    "    pickle.dump(new_data, fw)"
   ]
  },
  {
   "cell_type": "code",
   "execution_count": null,
   "id": "768bb882",
   "metadata": {},
   "outputs": [],
   "source": [
    "new_data = {'excitement' : amuse, 'baseline' : normal, 'stress' : stress, 'meditation' : meditation}\n",
    "\n",
    "with open(save_path + 'S15.pkl','wb') as fw:\n",
    "    pickle.dump(new_data, fw)"
   ]
  },
  {
   "cell_type": "markdown",
   "id": "29266765",
   "metadata": {},
   "source": [
    "# S16"
   ]
  },
  {
   "cell_type": "code",
   "execution_count": null,
   "id": "0ab60e62",
   "metadata": {},
   "outputs": [],
   "source": [
    "df = pd.read_pickle(Data + 'S16' + '/' + 'S16' + '.pkl')\n",
    "ecg_v = df['signal']['chest']['ECG']\n",
    "label = df['label']\n",
    "\n",
    "amuse_ecg = ecg_v[np.where(label == 3)[0]].flatten()\n",
    "normal_ecg = ecg_v[np.where(label == 1)[0]].flatten()\n",
    "stress_ecg = ecg_v[np.where(label == 2)[0]].flatten()\n",
    "meditation_ecg = ecg_v[np.where(label == 4)[0]].flatten()\n",
    "\n",
    "plot_ecg(amuse_ecg, normal_ecg, stress_ecg, meditation_ecg)"
   ]
  },
  {
   "cell_type": "code",
   "execution_count": null,
   "id": "f9105716",
   "metadata": {},
   "outputs": [],
   "source": [
    "out_meditation = Delet_outlier(meditation_ecg, None, 4)\n",
    "plot_ecg(amuse_ecg, normal_ecg, stress_ecg, out_meditation)"
   ]
  },
  {
   "cell_type": "code",
   "execution_count": null,
   "id": "6600e9e7",
   "metadata": {},
   "outputs": [],
   "source": [
    "de_amuse, de_normal, de_stress, de_meditation = denoise_ecg(amuse_ecg, normal_ecg, stress_ecg, out_meditation, 0.5, 100, 700, 4)\n",
    "\n",
    "plot_ecg(amuse_ecg, normal_ecg, stress_ecg, out_meditation)\n",
    "plot_ecg(de_amuse, de_normal, de_stress, de_meditation)"
   ]
  },
  {
   "cell_type": "code",
   "execution_count": null,
   "id": "365df38c",
   "metadata": {},
   "outputs": [],
   "source": [
    "out_meditation = Delet_outlier(meditation_ecg, None, 4)\n",
    "plot_ecg(de_amuse, de_normal, de_stress, out_meditation)"
   ]
  },
  {
   "cell_type": "code",
   "execution_count": null,
   "id": "98154f91",
   "metadata": {},
   "outputs": [],
   "source": [
    "amuse = minmax(de_amuse)\n",
    "normal = minmax(de_normal)\n",
    "stress = minmax(de_stress)\n",
    "meditation = minmax(out_meditation)\n",
    "\n",
    "print(amuse.shape, normal.shape, stress.shape, meditation.shape)\n",
    "plot_ecg(amuse, normal, stress, meditation)\n",
    "plot_ecg(amuse[20000:30000], normal[20000:30000], stress[20000:30000], meditation[20000:30000])"
   ]
  },
  {
   "cell_type": "code",
   "execution_count": null,
   "id": "359375f7",
   "metadata": {},
   "outputs": [],
   "source": [
    "amuse_d = resampling(amuse ,WESAD_freq, StressID_freq)\n",
    "normal_d = resampling(normal ,WESAD_freq, StressID_freq)\n",
    "stress_d = resampling(stress ,WESAD_freq, StressID_freq)\n",
    "\n",
    "plot_ecg(amuse_d, normal_d, stress_d)\n",
    "\n",
    "name = 'S16'\n",
    "\n",
    "new_data = {'excitement' : amuse_d, 'neutral' : normal_d, 'stress' : stress_d}\n",
    "\n",
    "with open(save_path + 'S16.pkl','wb') as fw:\n",
    "    pickle.dump(new_data, fw)"
   ]
  },
  {
   "cell_type": "code",
   "execution_count": null,
   "id": "50d26505",
   "metadata": {},
   "outputs": [],
   "source": [
    "new_data = {'excitement' : amuse, 'baseline' : normal, 'stress' : stress, 'meditation' : meditation}\n",
    "\n",
    "with open(save_path + 'S16.pkl','wb') as fw:\n",
    "    pickle.dump(new_data, fw)"
   ]
  },
  {
   "cell_type": "markdown",
   "id": "eaad8690",
   "metadata": {},
   "source": [
    "# S17"
   ]
  },
  {
   "cell_type": "code",
   "execution_count": null,
   "id": "f95aa801",
   "metadata": {},
   "outputs": [],
   "source": [
    "df = pd.read_pickle(Data + 'S17' + '/' + 'S17' + '.pkl')\n",
    "ecg_v = df['signal']['chest']['ECG']\n",
    "label = df['label']\n",
    "\n",
    "amuse_ecg = ecg_v[np.where(label == 3)[0]].flatten()\n",
    "normal_ecg = ecg_v[np.where(label == 1)[0]].flatten()\n",
    "stress_ecg = ecg_v[np.where(label == 2)[0]].flatten()\n",
    "meditation_ecg = ecg_v[np.where(label == 4)[0]].flatten()\n",
    "\n",
    "plot_ecg(amuse_ecg, normal_ecg, stress_ecg, meditation_ecg)"
   ]
  },
  {
   "cell_type": "code",
   "execution_count": null,
   "id": "a066f3a5",
   "metadata": {},
   "outputs": [],
   "source": [
    "out_amuse = Delet_outlier(amuse_ecg, None, 5)\n",
    "out_meditation = Delet_outlier(meditation_ecg, None, 3)\n",
    "plot_ecg(amuse_ecg, normal_ecg, stress_ecg, meditation_ecg)\n",
    "plot_ecg(out_amuse, normal_ecg, stress_ecg, out_meditation)"
   ]
  },
  {
   "cell_type": "code",
   "execution_count": null,
   "id": "8b2f9839",
   "metadata": {},
   "outputs": [],
   "source": [
    "de_amuse, de_normal, de_stress, de_meditation = denoise_ecg(out_amuse, normal_ecg, stress_ecg, out_meditation, 0.5, 100, 700, 4)\n",
    "\n",
    "plot_ecg(out_amuse, normal_ecg, stress_ecg, out_meditation)\n",
    "plot_ecg(de_amuse, de_normal, de_stress, de_meditation)"
   ]
  },
  {
   "cell_type": "code",
   "execution_count": null,
   "id": "d9a9ad18",
   "metadata": {},
   "outputs": [],
   "source": [
    "amuse = minmax(de_amuse)\n",
    "normal = minmax(de_normal)\n",
    "stress = minmax(de_stress)\n",
    "meditation = minmax(de_meditation)\n",
    "\n",
    "print(amuse.shape, normal.shape, stress.shape, meditation.shape)\n",
    "plot_ecg(amuse, normal, stress, meditation)\n",
    "plot_ecg(amuse[20000:30000], normal[20000:30000], stress[20000:30000], meditation[20000:30000])"
   ]
  },
  {
   "cell_type": "code",
   "execution_count": null,
   "id": "51de9582-e6fd-470f-b110-86e48a86a4c8",
   "metadata": {},
   "outputs": [],
   "source": []
  },
  {
   "cell_type": "markdown",
   "id": "ac7fbd73-53ed-42a8-85b9-c1dd55a32a73",
   "metadata": {},
   "source": [
    "# 3 Class"
   ]
  },
  {
   "cell_type": "code",
   "execution_count": null,
   "id": "61d83220",
   "metadata": {},
   "outputs": [],
   "source": [
    "amuse_d = resampling(amuse ,WESAD_freq, StressID_freq)\n",
    "normal_d = resampling(normal ,WESAD_freq, StressID_freq)\n",
    "stress_d = resampling(stress ,WESAD_freq, StressID_freq)\n",
    "\n",
    "plot_ecg(amuse_d, normal_d, stress_d)\n",
    "\n",
    "new_data = {'excitement' : amuse_d, 'neutral' : normal_d, 'stress' : stress_d}\n",
    "\n",
    "with open(save_path + 'S17.pkl','wb') as fw:\n",
    "    pickle.dump(new_data, fw)"
   ]
  },
  {
   "cell_type": "markdown",
   "id": "5b661568-217f-4e84-af3b-db786f926c7f",
   "metadata": {},
   "source": [
    "# 4 Class"
   ]
  },
  {
   "cell_type": "code",
   "execution_count": null,
   "id": "25c72087",
   "metadata": {},
   "outputs": [],
   "source": [
    "new_data = {'excitement' : amuse, 'baseline' : normal, 'stress' : stress, 'meditation' : meditation}\n",
    "\n",
    "with open(save_path + 'S17.pkl','wb') as fw:\n",
    "    pickle.dump(new_data, fw)"
   ]
  },
  {
   "cell_type": "code",
   "execution_count": null,
   "id": "ae8b15bf",
   "metadata": {},
   "outputs": [],
   "source": []
  },
  {
   "cell_type": "code",
   "execution_count": null,
   "id": "71fbd665",
   "metadata": {},
   "outputs": [],
   "source": []
  },
  {
   "cell_type": "code",
   "execution_count": null,
   "id": "1fb6fb3d",
   "metadata": {},
   "outputs": [],
   "source": []
  },
  {
   "cell_type": "code",
   "execution_count": null,
   "id": "e34604bb",
   "metadata": {},
   "outputs": [],
   "source": []
  },
  {
   "cell_type": "code",
   "execution_count": null,
   "id": "bcbe938a",
   "metadata": {},
   "outputs": [],
   "source": []
  },
  {
   "cell_type": "code",
   "execution_count": null,
   "id": "cca9ffe4",
   "metadata": {},
   "outputs": [],
   "source": []
  },
  {
   "cell_type": "code",
   "execution_count": null,
   "id": "466090ef",
   "metadata": {},
   "outputs": [],
   "source": []
  },
  {
   "cell_type": "code",
   "execution_count": null,
   "id": "37a0e410",
   "metadata": {},
   "outputs": [],
   "source": []
  },
  {
   "cell_type": "code",
   "execution_count": null,
   "id": "e1d5a2b6",
   "metadata": {},
   "outputs": [],
   "source": []
  },
  {
   "cell_type": "code",
   "execution_count": null,
   "id": "09df798f",
   "metadata": {},
   "outputs": [],
   "source": []
  },
  {
   "cell_type": "code",
   "execution_count": null,
   "id": "f2071b5a",
   "metadata": {},
   "outputs": [],
   "source": []
  },
  {
   "cell_type": "code",
   "execution_count": null,
   "id": "e207d1e4",
   "metadata": {},
   "outputs": [],
   "source": []
  },
  {
   "cell_type": "code",
   "execution_count": null,
   "id": "27626c92",
   "metadata": {},
   "outputs": [],
   "source": []
  },
  {
   "cell_type": "code",
   "execution_count": null,
   "id": "54c7083f",
   "metadata": {},
   "outputs": [],
   "source": []
  },
  {
   "cell_type": "code",
   "execution_count": null,
   "id": "2b70eb3c",
   "metadata": {},
   "outputs": [],
   "source": []
  },
  {
   "cell_type": "code",
   "execution_count": null,
   "id": "e280f873",
   "metadata": {},
   "outputs": [],
   "source": []
  },
  {
   "cell_type": "code",
   "execution_count": null,
   "id": "fc340a9b",
   "metadata": {},
   "outputs": [],
   "source": []
  },
  {
   "cell_type": "code",
   "execution_count": null,
   "id": "5292d820",
   "metadata": {},
   "outputs": [],
   "source": []
  },
  {
   "cell_type": "code",
   "execution_count": null,
   "id": "05c7c8e2",
   "metadata": {},
   "outputs": [],
   "source": []
  },
  {
   "cell_type": "code",
   "execution_count": null,
   "id": "ca66468b",
   "metadata": {},
   "outputs": [],
   "source": []
  }
 ],
 "metadata": {
  "kernelspec": {
   "display_name": "ecg_research",
   "language": "python",
   "name": "ecg1"
  },
  "language_info": {
   "codemirror_mode": {
    "name": "ipython",
    "version": 3
   },
   "file_extension": ".py",
   "mimetype": "text/x-python",
   "name": "python",
   "nbconvert_exporter": "python",
   "pygments_lexer": "ipython3",
   "version": "3.8.19"
  }
 },
 "nbformat": 4,
 "nbformat_minor": 5
}
